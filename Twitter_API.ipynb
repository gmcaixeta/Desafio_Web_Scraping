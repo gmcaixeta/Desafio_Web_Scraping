{
 "cells": [
  {
   "cell_type": "markdown",
   "metadata": {},
   "source": [
    "## Twitter API"
   ]
  },
  {
   "cell_type": "markdown",
   "metadata": {},
   "source": [
    "* Utilizar a REST API pÃºblica do Twitter e armazenar no mesmo banco de\n",
    "dados local as Ãºltimas 1000 postagens contendo o termo \"telemedicina\" (usuÃ¡rio, data e hora\n",
    "da postagem e conteÃºdo);"
   ]
  },
  {
   "cell_type": "markdown",
   "metadata": {},
   "source": [
    "### 1- Primeira etapa: Twitter Credentials "
   ]
  },
  {
   "cell_type": "markdown",
   "metadata": {},
   "source": [
    "*  Criou-se no http://dev.twitter.com/apps/new um app para obter as credenciais de uso da API."
   ]
  },
  {
   "cell_type": "code",
   "execution_count": null,
   "metadata": {},
   "outputs": [],
   "source": []
  },
  {
   "cell_type": "markdown",
   "metadata": {},
   "source": [
    "Obtido as credenciais, criou-se a funÃ§Ã£o ```oauth_login()``` que contÃ©m um objeto chamado ```auth``` representando a Oauth (Open Authorization), que vai ser passada para a classe Twitter responsavel por emitir\n",
    "consultas Ã  API do Twitter."
   ]
  },
  {
   "cell_type": "code",
   "execution_count": 58,
   "metadata": {},
   "outputs": [],
   "source": [
    "import twitter\n",
    "\n",
    "def oauth_login():\n",
    "    \n",
    "    CONSUMER_KEY = \n",
    "    CONSUMER_SECRET = \n",
    "    OAUTH_TOKEN = \n",
    "    OAUTH_TOKEN_SECRET = \n",
    "    \n",
    "    \n",
    "    auth = twitter.oauth.OAuth(OAUTH_TOKEN, OAUTH_TOKEN_SECRET,\n",
    "                               CONSUMER_KEY, CONSUMER_SECRET)\n",
    "    \n",
    "    twitter_api = twitter.Twitter(auth=auth)\n",
    "    return twitter_api\n",
    "\n",
    "twitter_api = oauth_login() "
   ]
  }
 ],
 "metadata": {
  "kernelspec": {
   "display_name": "Python 3",
   "language": "python",
   "name": "python3"
  },
  "language_info": {
   "codemirror_mode": {
    "name": "ipython",
    "version": 3
   },
   "file_extension": ".py",
   "mimetype": "text/x-python",
   "name": "python",
   "nbconvert_exporter": "python",
   "pygments_lexer": "ipython3",
   "version": "3.6.5"
  }
 },
 "nbformat": 4,
 "nbformat_minor": 2
}
